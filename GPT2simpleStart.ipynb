{
  "nbformat": 4,
  "nbformat_minor": 0,
  "metadata": {
    "colab": {
      "provenance": [],
      "gpuType": "T4"
    },
    "kernelspec": {
      "name": "python3",
      "display_name": "Python 3"
    },
    "language_info": {
      "name": "python"
    },
    "accelerator": "GPU"
  },
  "cells": [
    {
      "cell_type": "code",
      "source": [
        "!pip install -q simpletransformers"
      ],
      "metadata": {
        "id": "Vov40BqLwSjh"
      },
      "execution_count": null,
      "outputs": []
    },
    {
      "cell_type": "code",
      "execution_count": null,
      "metadata": {
        "id": "759CkmtowRbC"
      },
      "outputs": [],
      "source": [
        "import logging\n",
        "\n",
        "from simpletransformers.language_generation import LanguageGenerationModel, LanguageGenerationArgs\n",
        "\n",
        "\n",
        "logging.basicConfig(level=logging.INFO)\n",
        "transformers_logger = logging.getLogger(\"transformers\")\n",
        "transformers_logger.setLevel(logging.WARNING)\n",
        "\n",
        "model_args = {\n",
        "    \"temperature\": 1,\n",
        "}\n",
        "\n",
        "model = LanguageGenerationModel(\"gpt2\", \"gpt2\", args=model_args)\n"
      ]
    },
    {
      "cell_type": "code",
      "source": [
        "model.generate(\"Let's give a minimal start to the model like\")"
      ],
      "metadata": {
        "id": "_HHCPk8xxm0w"
      },
      "execution_count": null,
      "outputs": []
    },
    {
      "cell_type": "markdown",
      "source": [
        "### Zadanie\n",
        "\n",
        "Używając tych parametrów:\n",
        "\n",
        "https://simpletransformers.ai/docs/language-generation-model/\n",
        "\n",
        "sprawdź jak zmienia się generowany tekst."
      ],
      "metadata": {
        "id": "9Cm2ZcHbyetb"
      }
    },
    {
      "cell_type": "code",
      "source": [],
      "metadata": {
        "id": "QnrkmRi0ymtT"
      },
      "execution_count": null,
      "outputs": []
    }
  ]
}