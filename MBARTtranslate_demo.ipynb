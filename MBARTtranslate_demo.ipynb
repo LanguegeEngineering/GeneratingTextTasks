{
  "nbformat": 4,
  "nbformat_minor": 0,
  "metadata": {
    "kernelspec": {
      "name": "python3",
      "display_name": "Python 3",
      "language": "python"
    },
    "language_info": {
      "name": "python",
      "version": "3.7.9",
      "mimetype": "text/x-python",
      "codemirror_mode": {
        "name": "ipython",
        "version": 3
      },
      "pygments_lexer": "ipython3",
      "nbconvert_exporter": "python",
      "file_extension": ".py"
    },
    "colab": {
      "name": "MBARTtranslate_demo.ipynb",
      "provenance": [],
      "collapsed_sections": []
    },
    "accelerator": "GPU"
  },
  "cells": [
    {
      "cell_type": "markdown",
      "metadata": {
        "id": "tx6xJha5YIiA"
      },
      "source": [
        "# DL Translate\n",
        "\n",
        "*A deep learning-based translation library built on Huggingface `transformers` and Facebook's `mBART-Large`*\n",
        "\n",
        "💻 [GitHub Repository](https://github.com/xhlulu/dl-translate)\\\n",
        "📚 [Documentation](https://git.io/dlt-docs) / [readthedocs](https://dl-translate.readthedocs.io)\\\n",
        "🐍 [PyPi project](https://pypi.org/project/dl-translate/)"
      ]
    },
    {
      "cell_type": "markdown",
      "metadata": {
        "id": "bCjxVhyxYIiD"
      },
      "source": [
        "## Quickstart\n",
        "\n",
        "Install the library with pip:"
      ]
    },
    {
      "cell_type": "code",
      "metadata": {
        "_uuid": "8f2839f25d086af736a60e9eeb907d3b93b6e0e5",
        "_cell_guid": "b1076dfc-b9ad-4769-8c92-a6c4dae69d19",
        "trusted": true,
        "_kg_hide-input": false,
        "_kg_hide-output": true,
        "id": "BI3mAoRnYIiF"
      },
      "source": [
        "!pip install -q dl-translate"
      ],
      "execution_count": null,
      "outputs": []
    },
    {
      "cell_type": "markdown",
      "metadata": {
        "id": "p1oeb4czYIiG"
      },
      "source": [
        "To translate some text:"
      ]
    },
    {
      "cell_type": "code",
      "metadata": {
        "trusted": true,
        "id": "qdefSjR_YIiG"
      },
      "source": [
        "import dl_translate as dlt\n",
        "\n",
        "mt = dlt.TranslationModel()\n",
        "\n"
      ],
      "execution_count": null,
      "outputs": []
    },
    {
      "cell_type": "code",
      "source": [
        "text_pl = \"Poszedłem do domu po spotkaniu.\"\n",
        "mt.translate(text_pl, source=dlt.lang.POLISH, target=dlt.lang.ENGLISH)"
      ],
      "metadata": {
        "id": "R8-royczPmKP"
      },
      "execution_count": null,
      "outputs": []
    },
    {
      "cell_type": "markdown",
      "metadata": {
        "id": "DDQGpznwYIiH"
      },
      "source": [
        "Above, you can see that `dlt.lang` contains variables representing each of the 50 available languages with auto-complete support. Alternatively, you can specify the language (e.g. \"Arabic\") or the language code (e.g. \"fr\" for French):"
      ]
    },
    {
      "cell_type": "code",
      "metadata": {
        "trusted": true,
        "id": "yC3LMjmNYIiI"
      },
      "source": [
        "text_ar = \"Ich habe keine Ahnung wo ist sie.\"\n",
        "mt.translate(text_ar, source=\"German\", target=\"en\")"
      ],
      "execution_count": null,
      "outputs": []
    },
    {
      "cell_type": "markdown",
      "metadata": {
        "id": "erptbvbiYIiI"
      },
      "source": [
        "If you want to verify whether a language is available, you can check it:"
      ]
    },
    {
      "cell_type": "code",
      "metadata": {
        "trusted": true,
        "_kg_hide-output": false,
        "id": "saHalYvsYIiJ"
      },
      "source": [
        "print(mt.available_languages())  # All languages that you can use\n",
        "print(mt.available_codes())  # Code corresponding to each language accepted\n",
        "print(mt.get_lang_code_map())  # Dictionary of lang -> code"
      ],
      "execution_count": null,
      "outputs": []
    },
    {
      "cell_type": "markdown",
      "metadata": {
        "trusted": true,
        "id": "lz3Rq5t0YIiJ"
      },
      "source": [
        "## Usage\n",
        "\n",
        "### Selecting a device\n",
        "\n",
        "When you load the model, you can specify the device:\n",
        "```python\n",
        "mt = dlt.TranslationModel(device=\"auto\")\n",
        "```\n",
        "\n",
        "By default, the value will be `device=\"auto\"`, which means it will use a GPU if possible. You can also explicitly set `device=\"cpu\"` or `device=\"gpu\"`, or some other strings accepted by [`torch.device()`](https://pytorch.org/docs/stable/tensor_attributes.html#torch.torch.device). __In general, it is recommend to use a GPU if you want a reasonable processing time.__\n",
        "\n",
        "Let's check what we originally loaded:"
      ]
    },
    {
      "cell_type": "code",
      "metadata": {
        "trusted": true,
        "id": "fKAlEmzbYIiJ"
      },
      "source": [
        "mt.device"
      ],
      "execution_count": null,
      "outputs": []
    },
    {
      "cell_type": "markdown",
      "metadata": {
        "id": "Nm7hVlSZYIiL"
      },
      "source": [
        "### Loading from a path\n",
        "\n",
        "By default, `dlt.TranslationModel` will download the model from the [huggingface repo](https://huggingface.co/facebook/mbart-large-50-one-to-many-mmt) and cache it. However, you are free to load from a path:\n",
        "```python\n",
        "mt = dlt.TranslationModel(\"/path/to/your/model/directory/\", model_family=\"mbart50\")\n",
        "```\n",
        "Make sure that your tokenizer is also stored in the same directory if you use this approach.\n",
        "\n",
        "\n",
        "### Using a different model\n",
        "\n",
        "You can also choose another model that has [a similar format](https://huggingface.co/models?filter=mbart-50). In those cases, it's preferable to specify the model family:\n",
        "```python\n",
        "mt = dlt.TranslationModel(\"facebook/mbart-large-50-one-to-many-mmt\")\n",
        "mt = dlt.TranslationModel(\"facebook/m2m100_1.2B\", model_family=\"m2m100\")\n",
        "```\n",
        "Note that the available languages will change if you do this, so you will not be able to leverage `dlt.lang` or `dlt.utils`.\n",
        "\n",
        "\n",
        "### Breaking down into sentences\n",
        "\n",
        "It is not recommended to use extremely long texts as it takes more time to process. Instead, you can try to break them down into sentences with the help of `nltk`. First install the library with `pip install nltk`, then run:"
      ]
    },
    {
      "cell_type": "code",
      "metadata": {
        "_kg_hide-output": true,
        "trusted": true,
        "id": "XkjrydidYIiL"
      },
      "source": [
        "import nltk\n",
        "nltk.download(\"punkt\")"
      ],
      "execution_count": null,
      "outputs": []
    },
    {
      "cell_type": "code",
      "metadata": {
        "trusted": true,
        "id": "j-cyjxQCYIiL"
      },
      "source": [
        "text = \"Mr. Smith went to his favorite cafe. There, he met his friend Dr. Joe.\"\n",
        "sents = nltk.tokenize.sent_tokenize(text, \"english\")  # don't use dlt.lang.ENGLISH\n",
        "\" \".join(mt.translate(sents, source=dlt.lang.ENGLISH, target=dlt.lang.POLISH))"
      ],
      "execution_count": null,
      "outputs": []
    },
    {
      "cell_type": "markdown",
      "metadata": {
        "id": "u6y8-SthYIiM"
      },
      "source": [
        "### Setting a `batch_size` and verbosity when calling `dlt.TranslationModel.translate`\n",
        "\n",
        "It's possible to set a batch size (i.e. the number of elements processed at once) for `mt.translate` and whether you want to see the progress bar or not:"
      ]
    },
    {
      "cell_type": "code",
      "metadata": {
        "trusted": true,
        "id": "fcxUFmjAYIiM"
      },
      "source": [
        "mt.translate(sents, source=dlt.lang.ENGLISH, target=dlt.lang.POLISH, batch_size=32, verbose=True)"
      ],
      "execution_count": null,
      "outputs": []
    },
    {
      "cell_type": "markdown",
      "metadata": {
        "id": "iS0bfSh_YIiM"
      },
      "source": [
        "If you set `batch_size=None`, it will compute the entire `text` at once rather than splitting into \"chunks\". We recommend lowering `batch_size` if you do not have a lot of RAM or VRAM and run into CUDA memory error. Set a higher value if you are using a high-end GPU and the VRAM is not fully utilized.\n",
        "\n",
        "\n",
        "### `dlt.utils` module\n",
        "\n",
        "An alternative to `mt.available_languages()` is the `dlt.utils` module. You can use it to find out which languages and codes are available:\n"
      ]
    },
    {
      "cell_type": "code",
      "metadata": {
        "trusted": true,
        "id": "U7iS_wKTYIiM"
      },
      "source": [
        "print(dlt.utils.available_languages('mbart50'))  # All languages that you can use\n",
        "print(dlt.utils.available_codes('mbart50'))  # Code corresponding to each language accepted\n",
        "print(dlt.utils.get_lang_code_map('mbart50'))  # Dictionary of lang -> code"
      ],
      "execution_count": null,
      "outputs": []
    },
    {
      "cell_type": "markdown",
      "metadata": {
        "id": "RFN5AplfYIiM"
      },
      "source": [
        "## Advanced\n",
        "\n",
        "The following section assumes you have knowledge of PyTorch and Huggingface Transformers.\n",
        "\n",
        "### Saving and loading\n",
        "\n",
        "If you wish to accelerate the loading time the translation model, you can use `save_obj`:\n"
      ]
    },
    {
      "cell_type": "code",
      "metadata": {
        "trusted": true,
        "id": "UaDQVFlzYIiN"
      },
      "source": [
        "mt.save_obj(\"saved_model\")"
      ],
      "execution_count": null,
      "outputs": []
    },
    {
      "cell_type": "markdown",
      "metadata": {
        "id": "c_uMZ9exYIiN"
      },
      "source": [
        "\n",
        "Then later you can reload it with `load_obj`:"
      ]
    },
    {
      "cell_type": "code",
      "metadata": {
        "trusted": true,
        "id": "SEkmXUDaYIiN"
      },
      "source": [
        "%%time\n",
        "mt = dlt.TranslationModel.load_obj('saved_model')"
      ],
      "execution_count": null,
      "outputs": []
    },
    {
      "cell_type": "markdown",
      "metadata": {
        "id": "j4G9tRL8YIiO"
      },
      "source": [
        "\n",
        "**Warning:** Only use this if you are certain the torch module saved in `saved_model/weights.pt` can be correctly loaded. Indeed, it is possible that the `huggingface`, `torch` or some other dependencies change between when you called `save_obj` and `load_obj`, and that might break your code. Thus, it is recommend to only run `load_obj` in the same environment/session as `save_obj`. **Note this method might be deprecated in the future once there's no speed benefit in loading this way.**\n",
        "\n",
        "\n",
        "### Interacting with underlying model and tokenizer\n",
        "\n",
        "When initializing `model`, you can pass in arguments for the underlying BART model and tokenizer (which will respectively be passed to `MBartForConditionalGeneration.from_pretrained` and `MBart50TokenizerFast.from_pretrained`):\n",
        "\n",
        "```python\n",
        "mt = dlt.TranslationModel(\n",
        "    model_options=dict(\n",
        "        state_dict=...,\n",
        "        cache_dir=...,\n",
        "        ...\n",
        "    ),\n",
        "    tokenizer_options=dict(\n",
        "        tokenizer_file=...,\n",
        "        eos_token=...,\n",
        "        ...\n",
        "    )\n",
        ")\n",
        "```\n",
        "\n",
        "You can also access the underlying `transformers` model and `tokenizer`:"
      ]
    },
    {
      "cell_type": "code",
      "metadata": {
        "_kg_hide-output": true,
        "trusted": true,
        "id": "UX1lyl_uYIiO"
      },
      "source": [
        "bart = mt.get_transformers_model()\n",
        "tokenizer = mt.get_tokenizer()\n",
        "\n",
        "print(tokenizer)\n",
        "print(bart)"
      ],
      "execution_count": null,
      "outputs": []
    },
    {
      "cell_type": "markdown",
      "metadata": {
        "id": "QQPqtEeuYIiO"
      },
      "source": [
        "See the [huggingface docs](https://huggingface.co/transformers/master/model_doc/mbart.html) for more information.\n",
        "\n",
        "\n",
        "### `bart_model.generate()` keyword arguments\n",
        "\n",
        "When running `mt.translate`, you can also give a `generation_options` dictionary that is passed as keyword arguments to the underlying `bart_model.generate()` method:"
      ]
    },
    {
      "cell_type": "code",
      "metadata": {
        "trusted": true,
        "id": "XuTbvJBWYIiP"
      },
      "source": [
        "mt.translate(\n",
        "    sents,\n",
        "    source=dlt.lang.ENGLISH,\n",
        "    target=dlt.lang.POLISH,\n",
        "    generation_options=dict(num_beams=5, max_length=128)\n",
        ")"
      ],
      "execution_count": null,
      "outputs": []
    }
  ]
}